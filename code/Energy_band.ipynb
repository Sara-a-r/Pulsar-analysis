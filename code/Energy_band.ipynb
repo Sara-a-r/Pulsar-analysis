{
 "cells": [
  {
   "cell_type": "code",
   "execution_count": 1,
   "id": "sacred-worcester",
   "metadata": {},
   "outputs": [],
   "source": [
    "#import Numpy\n",
    "import os\n",
    "import numpy as np\n",
    "\n",
    "# Import matplotlib\n",
    "import matplotlib.pyplot as plt\n",
    "from matplotlib.colors import LogNorm\n",
    "%matplotlib inline\n",
    "\n",
    "#Now, import the FITS module inside Astropy\n",
    "from astropy.io import fits\n",
    "\n",
    "import math\n",
    "import time\n",
    "import numpy.ma as ma\n",
    "\n",
    "#import package to caclulate remaining loop time \n",
    "from time import sleep\n",
    "from tqdm import tqdm\n",
    "from tqdm.notebook import tqdm"
   ]
  },
  {
   "cell_type": "code",
   "execution_count": 2,
   "id": "million-spread",
   "metadata": {},
   "outputs": [
    {
     "name": "stdout",
     "output_type": "stream",
     "text": [
      "I am in dir /home/sara/Scrivania/1magistrale/multimessenger/pulsar/experience-pulsars-Sara-a-r/code\n",
      "Main directory is /home/sara/Scrivania/1magistrale/multimessenger/pulsar/experience-pulsars-Sara-a-r\n",
      "data dir is /home/sara/Scrivania/1magistrale/multimessenger/pulsar/experience-pulsars-Sara-a-r/data/secondData\n"
     ]
    }
   ],
   "source": [
    "# Let's define te directory where you are with the \"get current working directory\" command...\n",
    "work_dir = os.getcwd()\n",
    "print(\"I am in dir %s\" % work_dir)\n",
    "\n",
    "#We can go up by using the path.dirname\n",
    "main_dir =os.path.dirname(work_dir)\n",
    "print(\"Main directory is %s\" % main_dir)\n",
    "\n",
    "#We can then define the data directory using the os.path.join command\n",
    "data_dir = os.path.join(main_dir,\"data/secondData\")\n",
    "print(\"data dir is %s\" % data_dir)\n",
    "\n",
    "#..and we can define some output directory with the results\n",
    "results_dir = os.path.join(main_dir,\"results\")\n",
    "\n",
    "#if the directory does not exist, you can create it...\n",
    "if not os.path.exists(results_dir):\n",
    "    os.mkdir(results_dir)\n",
    "    print(\"Directory %s created !\" % results_dir)"
   ]
  },
  {
   "cell_type": "code",
   "execution_count": 3,
   "id": "induced-trauma",
   "metadata": {},
   "outputs": [
    {
     "name": "stdout",
     "output_type": "stream",
     "text": [
      "Filename: /home/sara/Scrivania/1magistrale/multimessenger/pulsar/experience-pulsars-Sara-a-r/data/secondData/PSRJ2021_3deg_100mev_gti_bary.fits\n",
      "No.    Name      Ver    Type      Cards   Dimensions   Format\n",
      "  0  PRIMARY       1 PrimaryHDU      61   ()      \n",
      "  1  EVENTS        1 BinTableHDU    257   26232R x 23C   [E, E, E, E, E, E, E, E, E, D, J, J, I, 3I, 32X, 32X, I, D, E, E, E, E, E]   \n",
      "  2  GTI           1 BinTableHDU     77   1753R x 2C   [D, D]   \n"
     ]
    }
   ],
   "source": [
    "#define the input file\n",
    "input_filename = os.path.join(data_dir,\"PSRJ2021_3deg_100mev_gti_bary.fits\")\n",
    "\n",
    "#First, open the file and check the information in it\n",
    "fits_info = fits.open(input_filename)\n",
    "#fits_info1 = fits.open(input_filename1)\n",
    "\n",
    "#...like the number of HDU, in this case 5\n",
    "fits_info.info()"
   ]
  },
  {
   "cell_type": "code",
   "execution_count": 4,
   "id": "ranging-triangle",
   "metadata": {},
   "outputs": [
    {
     "data": {
      "text/plain": [
       "ColDefs(\n",
       "    name = 'ENERGY'; format = 'E'; unit = 'MeV'\n",
       "    name = 'RA'; format = 'E'; unit = 'deg'\n",
       "    name = 'DEC'; format = 'E'; unit = 'deg'\n",
       "    name = 'L'; format = 'E'; unit = 'deg'\n",
       "    name = 'B'; format = 'E'; unit = 'deg'\n",
       "    name = 'THETA'; format = 'E'; unit = 'deg'\n",
       "    name = 'PHI'; format = 'E'; unit = 'deg'\n",
       "    name = 'ZENITH_ANGLE'; format = 'E'; unit = 'deg'\n",
       "    name = 'EARTH_AZIMUTH_ANGLE'; format = 'E'; unit = 'deg'\n",
       "    name = 'TIME'; format = 'D'; unit = 's'\n",
       "    name = 'EVENT_ID'; format = 'J'\n",
       "    name = 'RUN_ID'; format = 'J'\n",
       "    name = 'RECON_VERSION'; format = 'I'\n",
       "    name = 'CALIB_VERSION'; format = '3I'\n",
       "    name = 'EVENT_CLASS'; format = '32X'\n",
       "    name = 'EVENT_TYPE'; format = '32X'\n",
       "    name = 'CONVERSION_TYPE'; format = 'I'\n",
       "    name = 'LIVETIME'; format = 'D'; unit = 's'\n",
       "    name = 'DIFRSP0'; format = 'E'\n",
       "    name = 'DIFRSP1'; format = 'E'\n",
       "    name = 'DIFRSP2'; format = 'E'\n",
       "    name = 'DIFRSP3'; format = 'E'\n",
       "    name = 'DIFRSP4'; format = 'E'\n",
       ")"
      ]
     },
     "execution_count": 4,
     "metadata": {},
     "output_type": "execute_result"
    }
   ],
   "source": [
    "#We will look at the EVENTS table (HDU=1)\n",
    "table_header = fits_info[1].header\n",
    "table_data = fits_info[1].data\n",
    "\n",
    "table_data.columns"
   ]
  },
  {
   "cell_type": "code",
   "execution_count": 5,
   "id": "southeast-memorial",
   "metadata": {},
   "outputs": [
    {
     "name": "stdout",
     "output_type": "stream",
     "text": [
      "**Data contains 26232 events, this is the number of photons\n"
     ]
    }
   ],
   "source": [
    "#Now convert the data to a Astropy Table object\n",
    "from astropy.table import Table\n",
    "\n",
    "evt_data = Table(table_data)\n",
    "print(\"**Data contains %d events, this is the number of photons\" % len(evt_data))\n",
    "\n",
    "Nph = len(evt_data)\n",
    "\n",
    "#convert data time in array\n",
    "data_time = np.asarray(evt_data['TIME'])"
   ]
  },
  {
   "cell_type": "code",
   "execution_count": 6,
   "id": "acceptable-daisy",
   "metadata": {},
   "outputs": [
    {
     "name": "stdout",
     "output_type": "stream",
     "text": [
      "**The number of step for f0 is 1001, instead for f1 is 50\n"
     ]
    }
   ],
   "source": [
    "#-------------------DEFINE FUNCTION AND PARAMETERS FOR SCAN---------------------\n",
    "\n",
    "#define the epoch as the central time of time intervall (T=54730-54820 MJD)\n",
    "t0 = (251424001 + 243648001) /2\n",
    "\n",
    "#define T as the difference of time intervall in MET\n",
    "T = (251424001 - 243648001)\n",
    "\n",
    "#define the initial values of f0,f1 and the spacing \n",
    "f_0start = 9.63935\n",
    "f_1start = -8.8892e-12\n",
    "df_0 = 0.15/T   #or 1/T \n",
    "df_1 = 0.3/T**2    #or 2/T**2\n",
    "\n",
    "#define the array of f0,f1 to use for the scan\n",
    "stepf0 = 1000\n",
    "stepf1 = 50\n",
    "\n",
    "f_0 = np.arange(f_0start-(stepf0/2)*df_0,f_0start+(stepf0/2)*df_0, df_0)\n",
    "f_1 = np.arange(f_1start-(stepf1/2)*df_1,f_1start+(stepf1/2)*df_1, df_1)\n",
    "\n",
    "print('**The number of step for f0 is %.0f, instead for f1 is %.0f' %(len(f_0), len(f_1)))\n",
    "\n",
    "#define the number of harmonics\n",
    "n = 8\n",
    "\n",
    "#define function to calculate pulse phases\n",
    "def Phi(f0,f1, time):\n",
    "    phi = f0 * (time - t0) + f1/2 * (time - t0)**2\n",
    "    frac_phi, int_phi = np.modf(phi)   #take the fractional part\n",
    "    frac_phi[frac_phi<0] = frac_phi[frac_phi<0] + 1   #if phase is negative report it in [0,1] intervall\n",
    "    return frac_phi\n",
    "\n",
    "#define function for Ztest \n",
    "cos = np.empty(n+1)\n",
    "sin = np.empty(n+1)\n",
    "\n",
    "def Z2n(frac_phi):\n",
    "    Z=0\n",
    "    for k in range(1,n+1):\n",
    "        cos[k] = np.sum(np.cos(2 * np.pi * k * frac_phi))\n",
    "        sin[k] = np.sum(np.sin(2 * np.pi * k * frac_phi))\n",
    "        Z += cos[k]**2 + sin[k]**2\n",
    "    Z2n = (2/Nph) * Z\n",
    "    return Z2n\n",
    "\n",
    "#define function for scan\n",
    "def main():\n",
    "    for m in tqdm(range(len(f_0))):\n",
    "        for s in range(len(f_1)):\n",
    "            phase = Phi(f_0[m],f_1[s], data_time)\n",
    "            Timing = Z2n(phase)\n",
    "            x[s][m]= Timing\n",
    "            Timing_list.append(Timing)\n",
    "            f0_list.append(f_0[m])\n",
    "            f1_list.append(f_1[s])\n",
    "    return Timing_list, x, f0_list, f1_list\n"
   ]
  },
  {
   "cell_type": "code",
   "execution_count": 7,
   "id": "charged-idaho",
   "metadata": {},
   "outputs": [
    {
     "data": {
      "application/vnd.jupyter.widget-view+json": {
       "model_id": "3435a236dfa847ecb8c62a98732ff15c",
       "version_major": 2,
       "version_minor": 0
      },
      "text/plain": [
       "  0%|          | 0/1001 [00:00<?, ?it/s]"
      ]
     },
     "metadata": {},
     "output_type": "display_data"
    },
    {
     "name": "stdout",
     "output_type": "stream",
     "text": [
      "Maximum in Z-test : 1253.811970\n",
      "(f0,f1) : (9.639345,-8.889200e-12)\n",
      "f0 step = 237\n",
      "f1 step = 25\n",
      "1810.3628096580505\n"
     ]
    },
    {
     "data": {
      "text/plain": [
       "(1253.8119695795526, 9.639344926697488, -8.889199999999993e-12, 237, 25)"
      ]
     },
     "execution_count": 7,
     "metadata": {},
     "output_type": "execute_result"
    }
   ],
   "source": [
    "#----------------------------------SCAN OF f0 AND f1----------------------------------\n",
    "start = time.time()\n",
    "\n",
    "\n",
    "Timing_list = [] #list of Z2n values\n",
    "f0_list = []\n",
    "f1_list = []\n",
    "\n",
    "#define a matrix whose indexes are the step of f0 and f1 and whose values are the Z2n\n",
    "#calculated for those values of f0 and f1 (rows f1, columns f0)\n",
    "x = np.empty((len(f_1),len(f_0))) \n",
    "\n",
    "#start scanning\n",
    "Timing_list, x, f0_list, f1_list = main()\n",
    "\n",
    "#found the maximum of Z2n\n",
    "Z2n_max = np.max(Timing_list)\n",
    "index_max = Timing_list.index(Z2n_max)\n",
    "row , column = np.where(x == Z2n_max)\n",
    "\n",
    "\n",
    "print('Maximum in Z-test : %f' %Z2n_max)\n",
    "print('(f0,f1) : (%f,%e)' % (f0_list[index_max],f1_list[index_max]))\n",
    "print('f0 step = %.0f\\nf1 step = %.0f' %(column[0],row[0]))\n",
    "print(time.time()-start)\n",
    "Z2n_max, f0_list[index_max], f1_list[index_max], column[0], row[0]"
   ]
  },
  {
   "cell_type": "code",
   "execution_count": 8,
   "id": "loved-metro",
   "metadata": {},
   "outputs": [],
   "source": [
    "#select energy bands\n",
    "time1 = data_time[evt_data['ENERGY']>0.1e3]  #E>0.1 GeV (>100 MeV)\n",
    "time2 = data_time[evt_data['ENERGY']>3e3]  #E>3 GeV (>3000 MeV)\n",
    "time3 = data_time[(evt_data['ENERGY']<3e3) & (evt_data['ENERGY']>1e3)]  #1<E<3 GeV\n",
    "time4 = data_time[(evt_data['ENERGY']<1e3) & (evt_data['ENERGY']>0.3e3)]  #0.3<E<1 GeV\n",
    "time5 = data_time[(evt_data['ENERGY']<0.3e3) & (evt_data['ENERGY']>0.1e3)]  #0.1<E<0.3 GeV"
   ]
  },
  {
   "cell_type": "code",
   "execution_count": 9,
   "id": "eligible-editing",
   "metadata": {},
   "outputs": [],
   "source": [
    "#calculate the phases of photons using optimal parameters\n",
    "phase_final1 = Phi(f0_list[index_max], f1_list[index_max], time1)\n",
    "phase_double1 = np.concatenate((phase_final1, 1+phase_final1))\n",
    "\n",
    "phase_final2 = Phi(f0_list[index_max], f1_list[index_max], time2)\n",
    "phase_double2 = np.concatenate((phase_final2, 1+phase_final2))\n",
    "\n",
    "phase_final3 = Phi(f0_list[index_max], f1_list[index_max], time3)\n",
    "phase_double3 = np.concatenate((phase_final3, 1+phase_final3))\n",
    "\n",
    "phase_final4 = Phi(f0_list[index_max], f1_list[index_max], time4)\n",
    "phase_double4 = np.concatenate((phase_final4, 1+phase_final4))\n",
    "\n",
    "phase_final5 = Phi(f0_list[index_max], f1_list[index_max], time5)\n",
    "phase_double5 = np.concatenate((phase_final5, 1+phase_final5))"
   ]
  },
  {
   "cell_type": "code",
   "execution_count": 15,
   "id": "advance-myanmar",
   "metadata": {},
   "outputs": [
    {
     "data": {
      "image/png": "[encoded data removed]",
      "text/plain": [
       "<Figure size 1008x792 with 5 Axes>"
      ]
     },
     "metadata": {
      "needs_background": "light"
     },
     "output_type": "display_data"
    }
   ],
   "source": [
    "#SUBPLOTS\n",
    "fig, axs = plt.subplots(5, sharex='col', figsize=(14,11))\n",
    "plt.rc('font', size=14)\n",
    "\n",
    "# Common axes limits\n",
    "custom_xlim = (min(phase_double1), max(phase_double1))\n",
    "plt.setp(axs, xlim=custom_xlim)\n",
    "\n",
    "#delates space between plots\n",
    "plt.subplots_adjust(wspace=0, hspace=0)\n",
    "\n",
    "#Plots\n",
    "axs[0].hist(phase_double1,bins=200,histtype='stepfilled',facecolor = 'steelblue', edgecolor='black')\n",
    "axs[1].hist(phase_double2,bins=200,histtype='stepfilled',facecolor = 'steelblue', edgecolor='black')\n",
    "axs[2].hist(phase_double3,bins=200,histtype='stepfilled',facecolor = 'steelblue', edgecolor='black')\n",
    "axs[3].hist(phase_double4,bins=200,histtype='stepfilled',facecolor = 'steelblue', edgecolor='black')\n",
    "axs[4].hist(phase_double5,bins=200,histtype='stepfilled',facecolor = 'steelblue', edgecolor='black')\n",
    "\n",
    "#X label only on last one\n",
    "axs[4].set_xlabel('Phase', fontsize = 19)\n",
    "\n",
    "#Legends: text inside boxes\n",
    "axs[0].text(0.85, 0.85, '> 0.1 GeV', fontsize=11, transform=axs[0].transAxes, bbox=dict(facecolor='white', edgecolor='black', boxstyle='round'))\n",
    "axs[1].text(0.85, -0.15, '> 3 GeV', fontsize=11, transform=axs[0].transAxes, bbox=dict(facecolor='white', edgecolor='black', boxstyle='round'))\n",
    "axs[2].text(0.85, -1.15, '1.0 - 3.0 GeV', fontsize=11, transform=axs[0].transAxes, bbox=dict(facecolor='white', edgecolor='black', boxstyle='round'))\n",
    "axs[3].text(0.85, -2.15, '0.3 - 1.0 GeV', fontsize=11, transform=axs[0].transAxes, bbox=dict(facecolor='white', edgecolor='black', boxstyle='round'))\n",
    "axs[4].text(0.85, -3.15, '0.1 - 0.3 GeV', fontsize=11, transform=axs[0].transAxes, bbox=dict(facecolor='white', edgecolor='black', boxstyle='round'))\n",
    "\n",
    "#Title\n",
    "fig.suptitle('Phasograms in different energy bands ', y=0.92, fontsize=19)\n",
    "\n",
    "#grids and other common properties\n",
    "for ax in axs:\n",
    "    ax.grid(b=True, color='grey', linestyle='-', alpha=0.3)\n",
    "    ax.set_ylabel('Counts', fontsize = 18)\n",
    "    ax.minorticks_on()\n",
    "    ax.tick_params('x', which='major', direction='in', length=5.)\n",
    "    ax.tick_params('y', which='major', direction='in', length=8.)\n",
    "    ax.tick_params('y', which='minor', direction='in', length=5., left=True)\n",
    "    ax.tick_params('x', which='minor', direction='in', length=2.5,bottom=True)\n",
    "    \n",
    "    \n",
    "axs[0].text(0.20, 520, 'Peak 1')\n",
    "axs[0].text(0.65, 520, 'Peak 2')\n",
    "axs[0].plot([1.24115738e-01, 1.24115738e-01],[0,560], color='black',linewidth='0.5', linestyle='-.') #peak 1\n",
    "axs[0].plot([5.89975178e-01, 5.89975178e-01],[0,550], color='black', linewidth='0.5', linestyle='-.') #peak 2    \n",
    "axs[0].plot([0,2],[231.902778,231.902778], linestyle='--', linewidth='1', color = 'k', label='background')\n",
    "\n",
    "axs[1].plot([1.24115738e-01, 1.24115738e-01],[0,27], color='black',linewidth='0.5', linestyle='-.') #peak 1\n",
    "axs[1].plot([5.89975178e-01, 5.89975178e-01],[0,27], color='black', linewidth='0.5', linestyle='-.') #peak 2    \n",
    "\n",
    "axs[2].plot([1.24115738e-01, 1.24115738e-01],[0,90], color='black',linewidth='0.5', linestyle='-.') #peak 1\n",
    "axs[2].plot([5.89975178e-01, 5.89975178e-01],[0,90], color='black', linewidth='0.5', linestyle='-.') #peak 2    \n",
    "\n",
    "axs[3].plot([1.24115738e-01, 1.24115738e-01],[0,250], color='black',linewidth='0.5', linestyle='-.') #peak 1\n",
    "axs[3].plot([5.89975178e-01, 5.89975178e-01],[0,250], color='black', linewidth='0.5', linestyle='-.') #peak 2    \n",
    "\n",
    "axs[4].plot([1.24115738e-01, 1.24115738e-01],[0,220], color='black',linewidth='0.5', linestyle='-.') #peak 1\n",
    "axs[4].plot([5.89975178e-01, 5.89975178e-01],[0,220], color='black', linewidth='0.5', linestyle='-.') #peak 2    \n",
    "\n",
    "\n",
    "#save figure in results directory\n",
    "out_name = os.path.join(results_dir,\"E_band.png\")\n",
    "plt.savefig(out_name, dpi = 300)\n",
    "plt.show()"
   ]
  },
  {
   "cell_type": "code",
   "execution_count": null,
   "id": "greater-grove",
   "metadata": {},
   "outputs": [],
   "source": []
  }
 ],
 "metadata": {
  "kernelspec": {
   "display_name": "Python 3",
   "language": "python",
   "name": "python3"
  },
  "language_info": {
   "codemirror_mode": {
    "name": "ipython",
    "version": 3
   },
   "file_extension": ".py",
   "mimetype": "text/x-python",
   "name": "python",
   "nbconvert_exporter": "python",
   "pygments_lexer": "ipython3",
   "version": "3.8.10"
  }
 },
 "nbformat": 4,
 "nbformat_minor": 5
}
